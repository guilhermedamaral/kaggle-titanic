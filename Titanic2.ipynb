{
  "nbformat": 4,
  "nbformat_minor": 0,
  "metadata": {
    "colab": {
      "name": "Titanic2.ipynb",
      "provenance": [],
      "collapsed_sections": [],
      "authorship_tag": "ABX9TyMeCG0HReXxmFmDWJw+yyI3",
      "include_colab_link": true
    },
    "kernelspec": {
      "name": "python3",
      "display_name": "Python 3"
    },
    "language_info": {
      "name": "python"
    }
  },
  "cells": [
    {
      "cell_type": "markdown",
      "metadata": {
        "id": "view-in-github",
        "colab_type": "text"
      },
      "source": [
        "<a href=\"https://colab.research.google.com/github/guilhermedamaral/kaggle-titanic/blob/main/Titanic2.ipynb\" target=\"_parent\"><img src=\"https://colab.research.google.com/assets/colab-badge.svg\" alt=\"Open In Colab\"/></a>"
      ]
    },
    {
      "cell_type": "code",
      "metadata": {
        "id": "bnNn0dlEpbzW"
      },
      "source": [
        "import pandas as pd\n",
        "import numpy as np"
      ],
      "execution_count": 92,
      "outputs": []
    },
    {
      "cell_type": "code",
      "metadata": {
        "id": "gGch5MHi6MGU"
      },
      "source": [
        "def transformar_sexo(valor):\n",
        "    if valor == 'female':\n",
        "        return 1\n",
        "    else:\n",
        "        return 0"
      ],
      "execution_count": 93,
      "outputs": []
    },
    {
      "cell_type": "code",
      "metadata": {
        "id": "Kv0X0UI16NLl"
      },
      "source": [
        "train = pd.read_csv(\"train.csv\")\n",
        "test = pd.read_csv(\"test.csv\")\n",
        "\n",
        "train['Sex_binario'] = train['Sex'].map(transformar_sexo)\n",
        "test['Sex_binario'] = test['Sex'].map(transformar_sexo)\n",
        "\n",
        "variaveis = ['Sex_binario', 'Age']\n",
        "\n",
        "X = train[variaveis].fillna(-1)\n",
        "y = train['Survived']"
      ],
      "execution_count": 94,
      "outputs": []
    },
    {
      "cell_type": "code",
      "metadata": {
        "colab": {
          "base_uri": "https://localhost:8080/",
          "height": 204
        },
        "id": "uP0dL2Aq6OZz",
        "outputId": "83b13d4a-29e1-48cb-dedf-1b63176ccf72"
      },
      "source": [
        "train.head()"
      ],
      "execution_count": 95,
      "outputs": [
        {
          "output_type": "execute_result",
          "data": {
            "text/html": [
              "<div>\n",
              "<style scoped>\n",
              "    .dataframe tbody tr th:only-of-type {\n",
              "        vertical-align: middle;\n",
              "    }\n",
              "\n",
              "    .dataframe tbody tr th {\n",
              "        vertical-align: top;\n",
              "    }\n",
              "\n",
              "    .dataframe thead th {\n",
              "        text-align: right;\n",
              "    }\n",
              "</style>\n",
              "<table border=\"1\" class=\"dataframe\">\n",
              "  <thead>\n",
              "    <tr style=\"text-align: right;\">\n",
              "      <th></th>\n",
              "      <th>PassengerId</th>\n",
              "      <th>Survived</th>\n",
              "      <th>Pclass</th>\n",
              "      <th>Name</th>\n",
              "      <th>Sex</th>\n",
              "      <th>Age</th>\n",
              "      <th>SibSp</th>\n",
              "      <th>Parch</th>\n",
              "      <th>Ticket</th>\n",
              "      <th>Fare</th>\n",
              "      <th>Cabin</th>\n",
              "      <th>Embarked</th>\n",
              "      <th>Sex_binario</th>\n",
              "    </tr>\n",
              "  </thead>\n",
              "  <tbody>\n",
              "    <tr>\n",
              "      <th>0</th>\n",
              "      <td>1</td>\n",
              "      <td>0</td>\n",
              "      <td>3</td>\n",
              "      <td>Braund, Mr. Owen Harris</td>\n",
              "      <td>male</td>\n",
              "      <td>22.0</td>\n",
              "      <td>1</td>\n",
              "      <td>0</td>\n",
              "      <td>A/5 21171</td>\n",
              "      <td>7.2500</td>\n",
              "      <td>NaN</td>\n",
              "      <td>S</td>\n",
              "      <td>0</td>\n",
              "    </tr>\n",
              "    <tr>\n",
              "      <th>1</th>\n",
              "      <td>2</td>\n",
              "      <td>1</td>\n",
              "      <td>1</td>\n",
              "      <td>Cumings, Mrs. John Bradley (Florence Briggs Th...</td>\n",
              "      <td>female</td>\n",
              "      <td>38.0</td>\n",
              "      <td>1</td>\n",
              "      <td>0</td>\n",
              "      <td>PC 17599</td>\n",
              "      <td>71.2833</td>\n",
              "      <td>C85</td>\n",
              "      <td>C</td>\n",
              "      <td>1</td>\n",
              "    </tr>\n",
              "    <tr>\n",
              "      <th>2</th>\n",
              "      <td>3</td>\n",
              "      <td>1</td>\n",
              "      <td>3</td>\n",
              "      <td>Heikkinen, Miss. Laina</td>\n",
              "      <td>female</td>\n",
              "      <td>26.0</td>\n",
              "      <td>0</td>\n",
              "      <td>0</td>\n",
              "      <td>STON/O2. 3101282</td>\n",
              "      <td>7.9250</td>\n",
              "      <td>NaN</td>\n",
              "      <td>S</td>\n",
              "      <td>1</td>\n",
              "    </tr>\n",
              "    <tr>\n",
              "      <th>3</th>\n",
              "      <td>4</td>\n",
              "      <td>1</td>\n",
              "      <td>1</td>\n",
              "      <td>Futrelle, Mrs. Jacques Heath (Lily May Peel)</td>\n",
              "      <td>female</td>\n",
              "      <td>35.0</td>\n",
              "      <td>1</td>\n",
              "      <td>0</td>\n",
              "      <td>113803</td>\n",
              "      <td>53.1000</td>\n",
              "      <td>C123</td>\n",
              "      <td>S</td>\n",
              "      <td>1</td>\n",
              "    </tr>\n",
              "    <tr>\n",
              "      <th>4</th>\n",
              "      <td>5</td>\n",
              "      <td>0</td>\n",
              "      <td>3</td>\n",
              "      <td>Allen, Mr. William Henry</td>\n",
              "      <td>male</td>\n",
              "      <td>35.0</td>\n",
              "      <td>0</td>\n",
              "      <td>0</td>\n",
              "      <td>373450</td>\n",
              "      <td>8.0500</td>\n",
              "      <td>NaN</td>\n",
              "      <td>S</td>\n",
              "      <td>0</td>\n",
              "    </tr>\n",
              "  </tbody>\n",
              "</table>\n",
              "</div>"
            ],
            "text/plain": [
              "   PassengerId  Survived  Pclass  ... Cabin Embarked  Sex_binario\n",
              "0            1         0       3  ...   NaN        S            0\n",
              "1            2         1       1  ...   C85        C            1\n",
              "2            3         1       3  ...   NaN        S            1\n",
              "3            4         1       1  ...  C123        S            1\n",
              "4            5         0       3  ...   NaN        S            0\n",
              "\n",
              "[5 rows x 13 columns]"
            ]
          },
          "metadata": {
            "tags": []
          },
          "execution_count": 95
        }
      ]
    },
    {
      "cell_type": "code",
      "metadata": {
        "id": "9slesUOE6PpY"
      },
      "source": [
        "from sklearn.ensemble import RandomForestClassifier\n",
        "from sklearn.model_selection import train_test_split"
      ],
      "execution_count": 96,
      "outputs": []
    },
    {
      "cell_type": "code",
      "metadata": {
        "colab": {
          "base_uri": "https://localhost:8080/"
        },
        "id": "y1UtNn7D6Q9J",
        "outputId": "9fa6d93c-f58d-4ae5-9e56-d0e78947dbae"
      },
      "source": [
        "X_falso = np.arange(10)\n",
        "X_falso"
      ],
      "execution_count": 97,
      "outputs": [
        {
          "output_type": "execute_result",
          "data": {
            "text/plain": [
              "array([0, 1, 2, 3, 4, 5, 6, 7, 8, 9])"
            ]
          },
          "metadata": {
            "tags": []
          },
          "execution_count": 97
        }
      ]
    },
    {
      "cell_type": "code",
      "metadata": {
        "colab": {
          "base_uri": "https://localhost:8080/"
        },
        "id": "B5bTB3ac6Twx",
        "outputId": "4fa7b70e-eb00-42db-dfe7-e455acc3fdc0"
      },
      "source": [
        "np.random.seed(0)\n",
        "train_test_split(X_falso, test_size=0.5)"
      ],
      "execution_count": 98,
      "outputs": [
        {
          "output_type": "execute_result",
          "data": {
            "text/plain": [
              "[array([6, 7, 3, 0, 5]), array([2, 8, 4, 9, 1])]"
            ]
          },
          "metadata": {
            "tags": []
          },
          "execution_count": 98
        }
      ]
    },
    {
      "cell_type": "code",
      "metadata": {
        "id": "a17jYTO36WtZ"
      },
      "source": [
        "np.random.seed(1)\n",
        "X_treino, X_valid, y_treino, y_valid = train_test_split(X, y, test_size=0.5)"
      ],
      "execution_count": 100,
      "outputs": []
    },
    {
      "cell_type": "code",
      "metadata": {
        "colab": {
          "base_uri": "https://localhost:8080/",
          "height": 204
        },
        "id": "PGFJD63q6YlZ",
        "outputId": "88fb9c1f-ccef-464c-8822-a915b689dbe8"
      },
      "source": [
        "X_treino.head()"
      ],
      "execution_count": 101,
      "outputs": [
        {
          "output_type": "execute_result",
          "data": {
            "text/html": [
              "<div>\n",
              "<style scoped>\n",
              "    .dataframe tbody tr th:only-of-type {\n",
              "        vertical-align: middle;\n",
              "    }\n",
              "\n",
              "    .dataframe tbody tr th {\n",
              "        vertical-align: top;\n",
              "    }\n",
              "\n",
              "    .dataframe thead th {\n",
              "        text-align: right;\n",
              "    }\n",
              "</style>\n",
              "<table border=\"1\" class=\"dataframe\">\n",
              "  <thead>\n",
              "    <tr style=\"text-align: right;\">\n",
              "      <th></th>\n",
              "      <th>Sex_binario</th>\n",
              "      <th>Age</th>\n",
              "    </tr>\n",
              "  </thead>\n",
              "  <tbody>\n",
              "    <tr>\n",
              "      <th>394</th>\n",
              "      <td>1</td>\n",
              "      <td>24.00</td>\n",
              "    </tr>\n",
              "    <tr>\n",
              "      <th>851</th>\n",
              "      <td>0</td>\n",
              "      <td>74.00</td>\n",
              "    </tr>\n",
              "    <tr>\n",
              "      <th>373</th>\n",
              "      <td>0</td>\n",
              "      <td>22.00</td>\n",
              "    </tr>\n",
              "    <tr>\n",
              "      <th>523</th>\n",
              "      <td>1</td>\n",
              "      <td>44.00</td>\n",
              "    </tr>\n",
              "    <tr>\n",
              "      <th>78</th>\n",
              "      <td>0</td>\n",
              "      <td>0.83</td>\n",
              "    </tr>\n",
              "  </tbody>\n",
              "</table>\n",
              "</div>"
            ],
            "text/plain": [
              "     Sex_binario    Age\n",
              "394            1  24.00\n",
              "851            0  74.00\n",
              "373            0  22.00\n",
              "523            1  44.00\n",
              "78             0   0.83"
            ]
          },
          "metadata": {
            "tags": []
          },
          "execution_count": 101
        }
      ]
    },
    {
      "cell_type": "code",
      "metadata": {
        "colab": {
          "base_uri": "https://localhost:8080/"
        },
        "id": "Iy1b7g5l6aVZ",
        "outputId": "b519f449-3eaa-4b54-b732-d1212283a1cf"
      },
      "source": [
        "X_treino.shape, X_valid.shape, y_treino.shape, y_valid.shape"
      ],
      "execution_count": 102,
      "outputs": [
        {
          "output_type": "execute_result",
          "data": {
            "text/plain": [
              "((445, 2), (446, 2), (445,), (446,))"
            ]
          },
          "metadata": {
            "tags": []
          },
          "execution_count": 102
        }
      ]
    },
    {
      "cell_type": "code",
      "metadata": {
        "colab": {
          "base_uri": "https://localhost:8080/"
        },
        "id": "3xQEvjWU6fm5",
        "outputId": "7f49298c-61ca-498c-f48c-6c678d30004e"
      },
      "source": [
        "modelo = RandomForestClassifier(n_estimators=100, n_jobs=-1, random_state=0)\n",
        "modelo.fit(X_treino, y_treino)"
      ],
      "execution_count": 103,
      "outputs": [
        {
          "output_type": "execute_result",
          "data": {
            "text/plain": [
              "RandomForestClassifier(bootstrap=True, ccp_alpha=0.0, class_weight=None,\n",
              "                       criterion='gini', max_depth=None, max_features='auto',\n",
              "                       max_leaf_nodes=None, max_samples=None,\n",
              "                       min_impurity_decrease=0.0, min_impurity_split=None,\n",
              "                       min_samples_leaf=1, min_samples_split=2,\n",
              "                       min_weight_fraction_leaf=0.0, n_estimators=100,\n",
              "                       n_jobs=-1, oob_score=False, random_state=0, verbose=0,\n",
              "                       warm_start=False)"
            ]
          },
          "metadata": {
            "tags": []
          },
          "execution_count": 103
        }
      ]
    },
    {
      "cell_type": "code",
      "metadata": {
        "id": "645pSRuW6g-5"
      },
      "source": [
        "p = modelo.predict(X_valid)"
      ],
      "execution_count": 104,
      "outputs": []
    },
    {
      "cell_type": "code",
      "metadata": {
        "colab": {
          "base_uri": "https://localhost:8080/"
        },
        "id": "erRGcMU-6jAY",
        "outputId": "df27275c-0c21-4294-9ed8-2a99fab9e5e9"
      },
      "source": [
        "np.mean(y_valid == p)"
      ],
      "execution_count": 105,
      "outputs": [
        {
          "output_type": "execute_result",
          "data": {
            "text/plain": [
              "0.7466367713004485"
            ]
          },
          "metadata": {
            "tags": []
          },
          "execution_count": 105
        }
      ]
    },
    {
      "cell_type": "code",
      "metadata": {
        "colab": {
          "base_uri": "https://localhost:8080/"
        },
        "id": "izbp8j1w6kIa",
        "outputId": "8ca2d94c-07a4-4f44-84f6-0aa29cdc32de"
      },
      "source": [
        "p = (X_valid['Sex_binario'] == 1).astype(np.int64)\n",
        "np.mean(y_valid == p)"
      ],
      "execution_count": 106,
      "outputs": [
        {
          "output_type": "execute_result",
          "data": {
            "text/plain": [
              "0.7623318385650224"
            ]
          },
          "metadata": {
            "tags": []
          },
          "execution_count": 106
        }
      ]
    },
    {
      "cell_type": "code",
      "metadata": {
        "id": "KlnT2aEc6mEI"
      },
      "source": [
        ""
      ],
      "execution_count": null,
      "outputs": []
    },
    {
      "cell_type": "markdown",
      "metadata": {
        "id": "TfzFT08Q6plN"
      },
      "source": [
        "#Validação Cruzada"
      ]
    },
    {
      "cell_type": "code",
      "metadata": {
        "colab": {
          "base_uri": "https://localhost:8080/"
        },
        "id": "EVMrm_Vi6rlX",
        "outputId": "fa7451d3-4e14-4d81-f910-8e2359c13893"
      },
      "source": [
        "X_falso\n"
      ],
      "execution_count": 107,
      "outputs": [
        {
          "output_type": "execute_result",
          "data": {
            "text/plain": [
              "array([0, 1, 2, 3, 4, 5, 6, 7, 8, 9])"
            ]
          },
          "metadata": {
            "tags": []
          },
          "execution_count": 107
        }
      ]
    },
    {
      "cell_type": "code",
      "metadata": {
        "id": "Fkn62zox6tEY"
      },
      "source": [
        "from sklearn.model_selection import KFold"
      ],
      "execution_count": 108,
      "outputs": []
    },
    {
      "cell_type": "code",
      "metadata": {
        "colab": {
          "base_uri": "https://localhost:8080/"
        },
        "id": "cHpLsV3Q6ugR",
        "outputId": "a0a3a4dd-80e5-40f7-e9e8-9a02ec9e6ba5"
      },
      "source": [
        "\n",
        "kf = KFold(3, shuffle=True, random_state=0)\n",
        "for linhas_treino, linhas_valid in kf.split(X_falso):\n",
        "    print(\"Treino:\", linhas_treino)\n",
        "    print(\"Valid:\", linhas_valid)\n",
        "    print()"
      ],
      "execution_count": 109,
      "outputs": [
        {
          "output_type": "stream",
          "text": [
            "Treino: [0 1 3 5 6 7]\n",
            "Valid: [2 4 8 9]\n",
            "\n",
            "Treino: [0 2 3 4 5 8 9]\n",
            "Valid: [1 6 7]\n",
            "\n",
            "Treino: [1 2 4 6 7 8 9]\n",
            "Valid: [0 3 5]\n",
            "\n"
          ],
          "name": "stdout"
        }
      ]
    },
    {
      "cell_type": "code",
      "metadata": {
        "colab": {
          "base_uri": "https://localhost:8080/"
        },
        "id": "mzshU_l76wPA",
        "outputId": "95f947e5-2176-48b9-e774-cb51f95bc07b"
      },
      "source": [
        "resultados = []\n",
        "for rep in range(10):\n",
        "    print(\"Rep:\", rep)\n",
        "    kf = KFold(5, shuffle=True, random_state=rep)\n",
        "    \n",
        "    for linhas_treino, linhas_valid in kf.split(X):\n",
        "        print(\"Treino:\", linhas_treino.shape[0])\n",
        "        print(\"Valid:\", linhas_valid.shape[0])\n",
        "\n",
        "        X_treino, X_valid = X.iloc[linhas_treino], X.iloc[linhas_valid]\n",
        "        y_treino, y_valid = y.iloc[linhas_treino], y.iloc[linhas_valid]\n",
        "\n",
        "        modelo = RandomForestClassifier(n_estimators=100, n_jobs=-1, random_state=0)\n",
        "        modelo.fit(X_treino, y_treino)\n",
        "\n",
        "        p = modelo.predict(X_valid)\n",
        "\n",
        "        acc = np.mean(y_valid == p)\n",
        "        resultados.append(acc)\n",
        "        print(\"Acc:\", acc)\n",
        "        print()\n",
        "        #print(X_treino.head())\n",
        "        #print()"
      ],
      "execution_count": 110,
      "outputs": [
        {
          "output_type": "stream",
          "text": [
            "Rep: 0\n",
            "Treino: 712\n",
            "Valid: 179\n",
            "Acc: 0.7988826815642458\n",
            "\n",
            "Treino: 713\n",
            "Valid: 178\n",
            "Acc: 0.7359550561797753\n",
            "\n",
            "Treino: 713\n",
            "Valid: 178\n",
            "Acc: 0.7808988764044944\n",
            "\n",
            "Treino: 713\n",
            "Valid: 178\n",
            "Acc: 0.797752808988764\n",
            "\n",
            "Treino: 713\n",
            "Valid: 178\n",
            "Acc: 0.7808988764044944\n",
            "\n",
            "Rep: 1\n",
            "Treino: 712\n",
            "Valid: 179\n",
            "Acc: 0.7374301675977654\n",
            "\n",
            "Treino: 713\n",
            "Valid: 178\n",
            "Acc: 0.7247191011235955\n",
            "\n",
            "Treino: 713\n",
            "Valid: 178\n",
            "Acc: 0.7808988764044944\n",
            "\n",
            "Treino: 713\n",
            "Valid: 178\n",
            "Acc: 0.7921348314606742\n",
            "\n",
            "Treino: 713\n",
            "Valid: 178\n",
            "Acc: 0.7921348314606742\n",
            "\n",
            "Rep: 2\n",
            "Treino: 712\n",
            "Valid: 179\n",
            "Acc: 0.7653631284916201\n",
            "\n",
            "Treino: 713\n",
            "Valid: 178\n",
            "Acc: 0.7865168539325843\n",
            "\n",
            "Treino: 713\n",
            "Valid: 178\n",
            "Acc: 0.7865168539325843\n",
            "\n",
            "Treino: 713\n",
            "Valid: 178\n",
            "Acc: 0.7808988764044944\n",
            "\n",
            "Treino: 713\n",
            "Valid: 178\n",
            "Acc: 0.7640449438202247\n",
            "\n",
            "Rep: 3\n",
            "Treino: 712\n",
            "Valid: 179\n",
            "Acc: 0.7653631284916201\n",
            "\n",
            "Treino: 713\n",
            "Valid: 178\n",
            "Acc: 0.7471910112359551\n",
            "\n",
            "Treino: 713\n",
            "Valid: 178\n",
            "Acc: 0.7808988764044944\n",
            "\n",
            "Treino: 713\n",
            "Valid: 178\n",
            "Acc: 0.7415730337078652\n",
            "\n",
            "Treino: 713\n",
            "Valid: 178\n",
            "Acc: 0.8202247191011236\n",
            "\n",
            "Rep: 4\n",
            "Treino: 712\n",
            "Valid: 179\n",
            "Acc: 0.7988826815642458\n",
            "\n",
            "Treino: 713\n",
            "Valid: 178\n",
            "Acc: 0.797752808988764\n",
            "\n",
            "Treino: 713\n",
            "Valid: 178\n",
            "Acc: 0.7752808988764045\n",
            "\n",
            "Treino: 713\n",
            "Valid: 178\n",
            "Acc: 0.7415730337078652\n",
            "\n",
            "Treino: 713\n",
            "Valid: 178\n",
            "Acc: 0.7471910112359551\n",
            "\n",
            "Rep: 5\n",
            "Treino: 712\n",
            "Valid: 179\n",
            "Acc: 0.7653631284916201\n",
            "\n",
            "Treino: 713\n",
            "Valid: 178\n",
            "Acc: 0.7415730337078652\n",
            "\n",
            "Treino: 713\n",
            "Valid: 178\n",
            "Acc: 0.8370786516853933\n",
            "\n",
            "Treino: 713\n",
            "Valid: 178\n",
            "Acc: 0.7471910112359551\n",
            "\n",
            "Treino: 713\n",
            "Valid: 178\n",
            "Acc: 0.702247191011236\n",
            "\n",
            "Rep: 6\n",
            "Treino: 712\n",
            "Valid: 179\n",
            "Acc: 0.7821229050279329\n",
            "\n",
            "Treino: 713\n",
            "Valid: 178\n",
            "Acc: 0.8146067415730337\n",
            "\n",
            "Treino: 713\n",
            "Valid: 178\n",
            "Acc: 0.7752808988764045\n",
            "\n",
            "Treino: 713\n",
            "Valid: 178\n",
            "Acc: 0.7134831460674157\n",
            "\n",
            "Treino: 713\n",
            "Valid: 178\n",
            "Acc: 0.7247191011235955\n",
            "\n",
            "Rep: 7\n",
            "Treino: 712\n",
            "Valid: 179\n",
            "Acc: 0.7150837988826816\n",
            "\n",
            "Treino: 713\n",
            "Valid: 178\n",
            "Acc: 0.7247191011235955\n",
            "\n",
            "Treino: 713\n",
            "Valid: 178\n",
            "Acc: 0.8370786516853933\n",
            "\n",
            "Treino: 713\n",
            "Valid: 178\n",
            "Acc: 0.8033707865168539\n",
            "\n",
            "Treino: 713\n",
            "Valid: 178\n",
            "Acc: 0.7808988764044944\n",
            "\n",
            "Rep: 8\n",
            "Treino: 712\n",
            "Valid: 179\n",
            "Acc: 0.7597765363128491\n",
            "\n",
            "Treino: 713\n",
            "Valid: 178\n",
            "Acc: 0.7921348314606742\n",
            "\n",
            "Treino: 713\n",
            "Valid: 178\n",
            "Acc: 0.7921348314606742\n",
            "\n",
            "Treino: 713\n",
            "Valid: 178\n",
            "Acc: 0.7696629213483146\n",
            "\n",
            "Treino: 713\n",
            "Valid: 178\n",
            "Acc: 0.7640449438202247\n",
            "\n",
            "Rep: 9\n",
            "Treino: 712\n",
            "Valid: 179\n",
            "Acc: 0.7039106145251397\n",
            "\n",
            "Treino: 713\n",
            "Valid: 178\n",
            "Acc: 0.7584269662921348\n",
            "\n",
            "Treino: 713\n",
            "Valid: 178\n",
            "Acc: 0.7415730337078652\n",
            "\n",
            "Treino: 713\n",
            "Valid: 178\n",
            "Acc: 0.8033707865168539\n",
            "\n",
            "Treino: 713\n",
            "Valid: 178\n",
            "Acc: 0.7921348314606742\n",
            "\n"
          ],
          "name": "stdout"
        }
      ]
    },
    {
      "cell_type": "code",
      "metadata": {
        "colab": {
          "base_uri": "https://localhost:8080/"
        },
        "id": "dU3gl9PP6yEg",
        "outputId": "c4daefe5-56ba-4efd-f935-468cde632a06"
      },
      "source": [
        "len(resultados)"
      ],
      "execution_count": 111,
      "outputs": [
        {
          "output_type": "execute_result",
          "data": {
            "text/plain": [
              "50"
            ]
          },
          "metadata": {
            "tags": []
          },
          "execution_count": 111
        }
      ]
    },
    {
      "cell_type": "code",
      "metadata": {
        "colab": {
          "base_uri": "https://localhost:8080/"
        },
        "id": "J3ixTD9Z65Wo",
        "outputId": "1f9cb4de-42f9-4fba-9027-09d18d625783"
      },
      "source": [
        "np.mean(resultados)"
      ],
      "execution_count": 112,
      "outputs": [
        {
          "output_type": "execute_result",
          "data": {
            "text/plain": [
              "0.7692593057560732"
            ]
          },
          "metadata": {
            "tags": []
          },
          "execution_count": 112
        }
      ]
    },
    {
      "cell_type": "markdown",
      "metadata": {
        "id": "QxIT1aeh67fo"
      },
      "source": [
        "# Criando Submissão"
      ]
    },
    {
      "cell_type": "code",
      "metadata": {
        "id": "7AWPNIy27A_4"
      },
      "source": [
        "sub.to_csv(\"primeiro_modelo.csv\", header=True)"
      ],
      "execution_count": 116,
      "outputs": []
    },
    {
      "cell_type": "code",
      "metadata": {
        "colab": {
          "base_uri": "https://localhost:8080/"
        },
        "id": "bb3DtWxW7F_5",
        "outputId": "efa1b11b-e003-44a8-fc94-b92763a30c16"
      },
      "source": [
        "!head -n10 primeiro_modelo.csv"
      ],
      "execution_count": 118,
      "outputs": [
        {
          "output_type": "stream",
          "text": [
            "PassengerId,Survived\n",
            "892,0\n",
            "893,1\n",
            "894,0\n",
            "895,1\n",
            "896,1\n",
            "897,0\n",
            "898,1\n",
            "899,0\n",
            "900,1\n"
          ],
          "name": "stdout"
        }
      ]
    }
  ]
}